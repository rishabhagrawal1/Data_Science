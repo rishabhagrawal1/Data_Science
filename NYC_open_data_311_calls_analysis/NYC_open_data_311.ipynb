{
 "cells": [
  {
   "cell_type": "code",
   "execution_count": 2,
   "metadata": {
    "collapsed": false
   },
   "outputs": [],
   "source": [
    "import pandas as pd\n",
    "import numpy as np\n",
    "import matplotlib.pyplot as plt"
   ]
  },
  {
   "cell_type": "code",
   "execution_count": 8,
   "metadata": {
    "collapsed": false
   },
   "outputs": [
    {
     "data": {
      "text/html": [
       "<div>\n",
       "<table border=\"1\" class=\"dataframe\">\n",
       "  <thead>\n",
       "    <tr style=\"text-align: right;\">\n",
       "      <th></th>\n",
       "      <th>CreatedDate</th>\n",
       "      <th>ClosedDate</th>\n",
       "      <th>Agency</th>\n",
       "      <th>ComplaintType</th>\n",
       "      <th>LocationType</th>\n",
       "      <th>IncidentZip</th>\n",
       "      <th>Status</th>\n",
       "      <th>Borough</th>\n",
       "      <th>ResolutionTime</th>\n",
       "    </tr>\n",
       "  </thead>\n",
       "  <tbody>\n",
       "    <tr>\n",
       "      <th>0</th>\n",
       "      <td>2015-01-01</td>\n",
       "      <td>2015-01-01</td>\n",
       "      <td>HPD</td>\n",
       "      <td>HEAT/HOT WATER</td>\n",
       "      <td>RESIDENTIAL BUILDING</td>\n",
       "      <td>10467</td>\n",
       "      <td>Closed</td>\n",
       "      <td>BRONX</td>\n",
       "      <td>0 days</td>\n",
       "    </tr>\n",
       "    <tr>\n",
       "      <th>1</th>\n",
       "      <td>2015-01-01</td>\n",
       "      <td>2015-05-18</td>\n",
       "      <td>HPD</td>\n",
       "      <td>WATER LEAK</td>\n",
       "      <td>RESIDENTIAL BUILDING</td>\n",
       "      <td>10040</td>\n",
       "      <td>Closed</td>\n",
       "      <td>MANHATTAN</td>\n",
       "      <td>137 days</td>\n",
       "    </tr>\n",
       "    <tr>\n",
       "      <th>2</th>\n",
       "      <td>2015-01-01</td>\n",
       "      <td>2015-01-01</td>\n",
       "      <td>HPD</td>\n",
       "      <td>HEAT/HOT WATER</td>\n",
       "      <td>RESIDENTIAL BUILDING</td>\n",
       "      <td>10455</td>\n",
       "      <td>Closed</td>\n",
       "      <td>BRONX</td>\n",
       "      <td>0 days</td>\n",
       "    </tr>\n",
       "    <tr>\n",
       "      <th>3</th>\n",
       "      <td>2015-01-01</td>\n",
       "      <td>2015-05-18</td>\n",
       "      <td>HPD</td>\n",
       "      <td>WATER LEAK</td>\n",
       "      <td>RESIDENTIAL BUILDING</td>\n",
       "      <td>10040</td>\n",
       "      <td>Closed</td>\n",
       "      <td>MANHATTAN</td>\n",
       "      <td>137 days</td>\n",
       "    </tr>\n",
       "    <tr>\n",
       "      <th>4</th>\n",
       "      <td>2015-01-01</td>\n",
       "      <td>2015-01-01</td>\n",
       "      <td>HPD</td>\n",
       "      <td>HEAT/HOT WATER</td>\n",
       "      <td>RESIDENTIAL BUILDING</td>\n",
       "      <td>10463</td>\n",
       "      <td>Closed</td>\n",
       "      <td>BRONX</td>\n",
       "      <td>0 days</td>\n",
       "    </tr>\n",
       "  </tbody>\n",
       "</table>\n",
       "</div>"
      ],
      "text/plain": [
       "  CreatedDate ClosedDate Agency   ComplaintType          LocationType  \\\n",
       "0  2015-01-01 2015-01-01    HPD  HEAT/HOT WATER  RESIDENTIAL BUILDING   \n",
       "1  2015-01-01 2015-05-18    HPD      WATER LEAK  RESIDENTIAL BUILDING   \n",
       "2  2015-01-01 2015-01-01    HPD  HEAT/HOT WATER  RESIDENTIAL BUILDING   \n",
       "3  2015-01-01 2015-05-18    HPD      WATER LEAK  RESIDENTIAL BUILDING   \n",
       "4  2015-01-01 2015-01-01    HPD  HEAT/HOT WATER  RESIDENTIAL BUILDING   \n",
       "\n",
       "  IncidentZip  Status    Borough  ResolutionTime  \n",
       "0       10467  Closed      BRONX          0 days  \n",
       "1       10040  Closed  MANHATTAN        137 days  \n",
       "2       10455  Closed      BRONX          0 days  \n",
       "3       10040  Closed  MANHATTAN        137 days  \n",
       "4       10463  Closed      BRONX          0 days  "
      ]
     },
     "execution_count": 8,
     "metadata": {},
     "output_type": "execute_result"
    }
   ],
   "source": [
    "##Reading data from NYC open data 311 calls\n",
    "#data = pd.read_csv('D:\\\\ds\\\\2014_ris.csv')\n",
    "fields = ['Created Date','Closed Date', 'Agency','Complaint Type','Location Type','Incident Zip','Borough','Status']\n",
    "#d2014 = pd.read_csv('D:\\\\ds\\\\2015_ris_from_jan_october.csv', skipinitialspace=True, usecols=fields)\n",
    "#d2014 = pd.read_csv('D:\\\\ds\\\\2013_ris.csv')\n",
    "#data1 = data[['CreatedDate','ClosedDate', 'Agency','ComplaintType','LocationType','IncidentZip','Borough','Status']]\n",
    "\n",
    "#d2014.head()\n",
    "#d2014['Closed Date'] = pd.to_datetime(d2014['Closed Date'])\n",
    "#d2014['Created Date'] = pd.to_datetime(d2014['Created Date'])\n",
    "d2014['resolution Time'] = d2014['Closed Date'] - d2014['Created Date']\n",
    "data1 = d2014\n",
    "data1.rename(columns={data1.columns[0]:'CreatedDate',data1.columns[1]:'ClosedDate',data1.columns[3]:'ComplaintType',data1.columns[4]:'LocationType', data1.columns[5]:'IncidentZip', data1.columns[8]:'ResolutionTime'}, inplace=True)\n",
    "#data1.rename(columns={data1.columns[0]:'CreatedDate',data1.columns[1]:'ClosedDate',data1.columns[3]:'ComplaintType',data1.columns[4]:'LocationType', data1.columns[5]:'IncidentZip'}, inplace=True)\n",
    "#data2 = data1[['ResolutionTime']]\n",
    "data1.head()"
   ]
  },
  {
   "cell_type": "code",
   "execution_count": 10,
   "metadata": {
    "collapsed": false
   },
   "outputs": [
    {
     "data": {
      "text/plain": [
       "50"
      ]
     },
     "execution_count": 10,
     "metadata": {},
     "output_type": "execute_result"
    }
   ],
   "source": [
    "x = data1.Agency.unique()\n",
    "len(x)\n"
   ]
  },
  {
   "cell_type": "code",
   "execution_count": 11,
   "metadata": {
    "collapsed": false
   },
   "outputs": [
    {
     "data": {
      "text/plain": [
       "1610644"
      ]
     },
     "execution_count": 11,
     "metadata": {},
     "output_type": "execute_result"
    }
   ],
   "source": [
    "data1.shape[0]"
   ]
  },
  {
   "cell_type": "code",
   "execution_count": 66,
   "metadata": {
    "collapsed": true
   },
   "outputs": [],
   "source": [
    "##location stacked for Agency vs complaint\n",
    "ct_AB = pd.crosstab(data1.Agency, data1.Borough)\n",
    "#ct_AB['Sum'] = ct_AB.sum(axis=1)\n",
    "#col_list= list(ct_AB)\n",
    "#col_list.remove('Sum')\n",
    "ct_AB.plot(kind='bar', stacked=True, grid=False,title=\"Complaints raised with various agencies from different Boroughs in 2015\")\n",
    "#plt.grid(True)\n",
    "#ax = dt2.unstack().plot(kind='-', linewidth=3.0,stacked = True,title=\"Complaints in various months raised in diff Boroughs\")\n",
    "plt.xlabel('Agencies')\n",
    "plt.ylabel('Number of complaints in various months of 2015')\n",
    "plt.show()"
   ]
  },
  {
   "cell_type": "code",
   "execution_count": 85,
   "metadata": {
    "collapsed": true
   },
   "outputs": [],
   "source": [
    "#plot of complaints in each borough\n",
    "dA = data1.Borough.value_counts()\n",
    "dA.plot(kind='barh',grid=False,color = 'black',title=\"Complaints received from each Borough\")\n",
    "#plt.grid(True)\n",
    "plt.xlabel('Number of complaints in each Category for year 2015')\n",
    "plt.ylabel('Boroughs of New York')\n",
    "plt.show()"
   ]
  },
  {
   "cell_type": "code",
   "execution_count": 70,
   "metadata": {
    "collapsed": true
   },
   "outputs": [],
   "source": [
    "##Top 50 complaints of Agencies stacked for Location\n",
    "ct_AB = pd.crosstab(data1.ComplaintType, data1.Borough, margins = True)\n",
    "sortComplaints =ct_AB.sort('All', ascending=False).head(51)\n",
    "col_list = list(sortComplaints)\n",
    "col_list.remove('All')\n",
    "sortComplaints = sortComplaints.sort('All',ascending=1)\n",
    "sortComplaints = sortComplaints[col_list]\n",
    "#type(sortComplaints)\n",
    "#sortComplaints\n",
    "sortComplaints = sortComplaints[sortComplaints.BRONX <= 100000]\n",
    "sortComplaints[col_list].plot(kind='barh', stacked=True, grid=False,title=\"Top 50 Complaints raised from different Boroughs\")\n",
    "#plt.grid(True)\n",
    "plt.xlabel('Number of complaints in each Category for year 2015')\n",
    "plt.ylabel('Top 50 complaint types')\n",
    "plt.show()"
   ]
  },
  {
   "cell_type": "code",
   "execution_count": 71,
   "metadata": {
    "collapsed": true
   },
   "outputs": [],
   "source": [
    "##working plotting complaints vs months\n",
    "\n",
    "#dt = data1[['CreatedDate','Agency','Borough']]\n",
    "dt = data1[['CreatedDate','Agency']]\n",
    "dt = dt.set_index(pd.DatetimeIndex(dt['CreatedDate']))\n",
    "col_list= list(dt)\n",
    "col_list.remove('CreatedDate')\n",
    "dt= dt[col_list]\n",
    "dt1= dt.groupby([pd.TimeGrouper(freq='M')])\n",
    "dt2 = dt1.Agency.count()\n",
    "dt2\n",
    "#ax = dt2.unstack().plot(kind='bar',stacked=True,title=\"Complaints in various months raised in diff Boroughs\")\n",
    "#ax.PrePlot(rows=3)\n",
    "ax = dt2.plot(kind='line', linewidth=3.0,title=\"Complaints in various months of 2015\"); \n",
    "              #raised in diff Boroughs\")\n",
    "#ax.set_xlim(100000,500000)\n",
    "#ax = dt2.plot(kind='line', linewidth=3.0,title=\"Complaints in various months raised in diff Boroughs\")\n",
    "#ax = dt2.plot(kind='line', linewidth=3.0,title=\"Complaints in various months raised in diff Boroughs\")\n",
    "\n",
    "plt.xlabel('2015 months')\n",
    "plt.ylabel('Number of complaints in various months of 2015')\n",
    "#plt.grid(True)\n",
    "plt.show()\n"
   ]
  },
  {
   "cell_type": "code",
   "execution_count": 72,
   "metadata": {
    "collapsed": true
   },
   "outputs": [],
   "source": [
    "##working plotting stacked complaints against months and locations\n",
    "dt = data1[['CreatedDate','Agency','Borough']]\n",
    "#dt = data1[['CreatedDate','Agency']]\n",
    "dt = dt.set_index(pd.DatetimeIndex(dt['CreatedDate']))\n",
    "col_list= list(dt)\n",
    "col_list.remove('CreatedDate')\n",
    "dt= dt[col_list]\n",
    "#dt1 = dt.resample(\"M\", how=\"count\")\n",
    "#dt1= dt.groupby([pd.TimeGrouper(freq='M')])\n",
    "dt1= dt.groupby([pd.TimeGrouper(freq='M'),'Borough'])\n",
    "dt2 = dt1.Agency.count()\n",
    "#ax = dt2.unstack().plot(kind='bar',stacked=True,title=\"Complaints in various months raised in diff Boroughs\")\n",
    "ax = dt2.unstack().plot(kind='line', linewidth=3.0,stacked = True,title=\"Complaints in various months raised in diff Boroughs\")\n",
    "#ax.set_ylim(20000,2000000)\n",
    "plt.xlabel('2015 months')\n",
    "plt.ylabel('Number of complaints in various months of 2015')\n",
    "#plt.grid(True)\n",
    "plt.show()\n",
    "#dt2"
   ]
  },
  {
   "cell_type": "code",
   "execution_count": 86,
   "metadata": {
    "collapsed": true
   },
   "outputs": [],
   "source": [
    "##working plotting stacked complaints against months and top 5 agencies\n",
    "dt = data1[['CreatedDate','Agency']]\n",
    "dt = dt.set_index(pd.DatetimeIndex(dt['CreatedDate']))\n",
    "col_list= list(dt)\n",
    "col_list.remove('CreatedDate')\n",
    "dt= dt[col_list]\n",
    "dt1 = dt.groupby([pd.TimeGrouper(freq='M'),'Agency'])\n",
    "dt2 = dt1.Agency.count()\n",
    "dt3 = dt2.unstack()\n",
    "s = dt3.sum().sort(ascending=False, inplace=False)\n",
    "dt3.ix[:,s.index]\n",
    "dt3 = dt3[s.index[:5]]\n",
    "dt3.plot(kind='line', linewidth=3.0,title=\"Agencies in top 5 which received max complaints\")\n",
    "plt.xlabel('2015 months')\n",
    "plt.ylabel('Number of complaints in various months of 2015')\n",
    "plt.show()"
   ]
  },
  {
   "cell_type": "code",
   "execution_count": null,
   "metadata": {
    "collapsed": true
   },
   "outputs": [],
   "source": [
    "#complaints Distribution among various complaints\n",
    "#temp1 = data1.groupby('Borough').Agency.unique()\n",
    "#temp1 = data1.groupby('IncidentZip').Agency.count()\n",
    "#temp1 = data1.groupby('ComplaintType')\n",
    "temp1 = data1.ComplaintType.value_counts()\n",
    "#temp1 = pd.DataFrame.from_dict(temp1)\n",
    "#temp1 = pd.DataFrame(temp1.items(), columns=['Complaint', 'DateValue'])\n",
    "#temp1 = pd.DataFrame({'date' : temp1.keys() , 'date_value' : temp1.values() })\n",
    "temp1.plot(kind='bar',  grid=False, color = 'black', legend=None, title = 'Distribution of different type of complaints')\n",
    "plt.ylabel('Number of complaints in year 2015')\n",
    "plt.xlabel('Different 198 complaint types received')\n",
    "#plt.show()\n",
    "#plt.legend([])\n",
    "#plt.plot(temp1)\n",
    "frame = plt.gca()\n",
    "\n",
    "frame.axes.get_xaxis().set_ticks([])\n",
    "#frame.axes.get_yaxis().set_ticks([])\n",
    "\n",
    "plt.show()\n"
   ]
  },
  {
   "cell_type": "code",
   "execution_count": 75,
   "metadata": {
    "collapsed": false
   },
   "outputs": [
    {
     "data": {
      "text/plain": [
       "198"
      ]
     },
     "execution_count": 75,
     "metadata": {},
     "output_type": "execute_result"
    }
   ],
   "source": [
    "len(data1.ComplaintType.value_counts())"
   ]
  },
  {
   "cell_type": "code",
   "execution_count": 83,
   "metadata": {
    "collapsed": false
   },
   "outputs": [
    {
     "name": "stderr",
     "output_type": "stream",
     "text": [
      "C:\\Anaconda\\lib\\site-packages\\IPython\\kernel\\__main__.py:8: SettingWithCopyWarning: \n",
      "A value is trying to be set on a copy of a slice from a DataFrame.\n",
      "Try using .loc[row_indexer,col_indexer] = value instead\n",
      "\n",
      "See the the caveats in the documentation: http://pandas.pydata.org/pandas-docs/stable/indexing.html#indexing-view-versus-copy\n"
     ]
    }
   ],
   "source": [
    "##creating data for mapping via zip level##\n",
    "\n",
    "#data1.IncidentZip.fillna(0, inplace=True)\n",
    "#x = data1[np.isfinite(data1['IncidentZip'])]\n",
    "#x.dropna(subset = ['IncidentZip'])\n",
    "import pandas as pd\n",
    "x = data1[pd.notnull(data1['IncidentZip'])]\n",
    "x['IncidentZip'] = x['IncidentZip'].map(lambda i: str(i)[0:5])\n",
    "dA = x.IncidentZip.value_counts().head(50)\n",
    "dA.plot(kind='barh',grid=False,color = 'black',title=\"Top 50 Zipcodes in terms of complaints raised\")\n",
    "plt.xlabel('Number of complaints from top 50 zip code for year 2015')\n",
    "plt.ylabel('Top 50 Incident Zip codes')\n",
    "plt.show()\n",
    "#dA.to_csv('D:\\\\ds\\\\panda_data\\\\2015.csv', sep=',')\n"
   ]
  },
  {
   "cell_type": "code",
   "execution_count": 65,
   "metadata": {
    "collapsed": false
   },
   "outputs": [],
   "source": [
    "##printing bar chart of top 50 zip code##\n",
    "#plot of complaints in each borough\n",
    "\n",
    "#plt.grid(True)\n",
    "\n",
    "\n",
    "#dA.to_csv('D:\\\\ds\\\\panda_data\\\\2015.csv', sep=',')"
   ]
  },
  {
   "cell_type": "code",
   "execution_count": 9,
   "metadata": {
    "collapsed": false
   },
   "outputs": [
    {
     "name": "stderr",
     "output_type": "stream",
     "text": [
      "C:\\Anaconda\\lib\\site-packages\\IPython\\kernel\\__main__.py:4: SettingWithCopyWarning: \n",
      "A value is trying to be set on a copy of a slice from a DataFrame.\n",
      "Try using .loc[row_indexer,col_indexer] = value instead\n",
      "\n",
      "See the the caveats in the documentation: http://pandas.pydata.org/pandas-docs/stable/indexing.html#indexing-view-versus-copy\n"
     ]
    }
   ],
   "source": [
    "## boplots for avg resolution time ##\n",
    "##not using this: #data1['ResolutionTime'].fillna(0, inplace=True)\n",
    "data3 = data1[pd.notnull(data1['ResolutionTime'])]\n",
    "data3['ResolutionTime'] = data3['ResolutionTime'].apply(lambda x: x  / np.timedelta64(1,'D')).astype('int64')\n",
    "data3 = data3[data3['ResolutionTime'] > 0.1]\n",
    "data3 = data3[data3['ResolutionTime'] < 365] \n",
    "\n",
    "#didn't work ############################################\n",
    "#data3 = data3[data3['ResolutionTime'].isin([0, 365])]\n",
    "#start = data3.ClosedDate.searchsorted(pd.datetime(2013, 1, 1))\n",
    "#end = data3.ClosedDate.searchsorted(pd.datetime(2015, 1, 1))\n",
    "#data3.ix[start:end]\n",
    "#d########################################################\n",
    "bp = data3[['Agency','ResolutionTime']].boxplot(by='Agency', sym='r+', patch_artist=True)\n",
    "plt.show()"
   ]
  },
  {
   "cell_type": "code",
   "execution_count": 65,
   "metadata": {
    "collapsed": false
   },
   "outputs": [],
   "source": [
    "##avg time of resolution\n",
    "data4 = data3[['Agency','ResolutionTime']].groupby('Agency').aggregate(np.mean)\n",
    "data4.plot(kind = 'bar', color = 'gray', title = \"averge time of resoulution by various agencies\")\n",
    "plt.xlabel('Various Agencies')\n",
    "plt.ylabel('Days before resolution')\n",
    "plt.show()\n",
    "\n",
    "#for i, group in data3[['Agency','ResolutionTime']].groupby('Agency'):\n",
    " #   plt.figure()\n",
    "  #  group.plot(x='Agency', y='ResolutionTime', title=str(i))\n",
    "#fig = plt.figure(1, figsize=(9, 6))\n",
    "# Create an axes instance\n",
    "#ax = fig.add_subplot(111)\n",
    "# Create the boxplot\n",
    "#bp = ax.boxplot(data4)\n",
    "#data4 = data3[['Agency','ResolutionTime']].groupby('Agency').aggregate(np.mean)"
   ]
  },
  {
   "cell_type": "code",
   "execution_count": null,
   "metadata": {
    "collapsed": true
   },
   "outputs": [],
   "source": [
    "##trying some regression now##\n",
    "import statsmodels.formula.api as smf\n",
    "formula = '' \n",
    "results = smf.ols(formula, data = dt3).fit()\n",
    "results.summary()"
   ]
  }
 ],
 "metadata": {
  "kernelspec": {
   "display_name": "Python 2",
   "language": "python",
   "name": "python2"
  },
  "language_info": {
   "codemirror_mode": {
    "name": "ipython",
    "version": 2
   },
   "file_extension": ".py",
   "mimetype": "text/x-python",
   "name": "python",
   "nbconvert_exporter": "python",
   "pygments_lexer": "ipython2",
   "version": "2.7.10"
  }
 },
 "nbformat": 4,
 "nbformat_minor": 0
}
